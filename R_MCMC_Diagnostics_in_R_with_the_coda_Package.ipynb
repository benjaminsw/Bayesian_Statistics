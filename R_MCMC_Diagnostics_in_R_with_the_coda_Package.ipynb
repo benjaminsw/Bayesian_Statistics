{
  "nbformat": 4,
  "nbformat_minor": 0,
  "metadata": {
    "colab": {
      "name": "R - MCMC Diagnostics in R with the coda Package",
      "provenance": [],
      "collapsed_sections": [],
      "authorship_tag": "ABX9TyPOatLQuKlymVlQKuak/jMF",
      "include_colab_link": true
    },
    "kernelspec": {
      "name": "ir",
      "display_name": "R"
    }
  },
  "cells": [
    {
      "cell_type": "markdown",
      "metadata": {
        "id": "view-in-github",
        "colab_type": "text"
      },
      "source": [
        "<a href=\"https://colab.research.google.com/github/benjaminsw/Bayesian_Statistics/blob/main/R_MCMC_Diagnostics_in_R_with_the_coda_Package.ipynb\" target=\"_parent\"><img src=\"https://colab.research.google.com/assets/colab-badge.svg\" alt=\"Open In Colab\"/></a>"
      ]
    },
    {
      "cell_type": "markdown",
      "metadata": {
        "id": "-sysZwXNVZyo"
      },
      "source": [
        "ref: http://www.johnmyleswhite.com/notebook/2010/08/29/mcmc-diagnostics-in-r-with-the-coda-package/\n",
        "\n",
        "### MCMC Diagnostics in R with the coda Package"
      ]
    },
    {
      "cell_type": "code",
      "metadata": {
        "id": "DGwuOpNygxOc",
        "colab": {
          "base_uri": "https://localhost:8080/",
          "height": 338
        },
        "outputId": "f1a12108-da82-48cb-9623-2608cd570753"
      },
      "source": [
        "if (!require(\"pacman\")) install.packages(\"pacman\")\n",
        "pacman::p_load(rjags)"
      ],
      "execution_count": 5,
      "outputs": [
        {
          "output_type": "stream",
          "text": [
            "Loading required package: pacman\n",
            "\n",
            "Installing package into ‘/usr/local/lib/R/site-library’\n",
            "(as ‘lib’ is unspecified)\n",
            "\n",
            "Warning message in utils::install.packages(package, ...):\n",
            "“installation of package ‘rjags’ had non-zero exit status”\n",
            "Warning message in p_install(package, character.only = TRUE, ...):\n",
            "“”\n",
            "Warning message in library(package, lib.loc = lib.loc, character.only = TRUE, logical.return = TRUE, :\n",
            "“there is no package called ‘rjags’”\n",
            "Warning message in pacman::p_load(rjags):\n",
            "“Failed to install/load:\n",
            "rjags”\n"
          ],
          "name": "stderr"
        },
        {
          "output_type": "error",
          "ename": "ERROR",
          "evalue": "ignored",
          "traceback": [
            "Error in testjags(): could not find function \"testjags\"\nTraceback:\n"
          ]
        }
      ]
    },
    {
      "cell_type": "code",
      "metadata": {
        "id": "nWU9j1qAW0Qx"
      },
      "source": [
        "filestring <- \"\n",
        "Poisson model...\n",
        "\n",
        "model {\n",
        "for (i in 1:6) {\n",
        "for (j in 1:3) {\n",
        "y[i,j] ~ dpois(mu[i])\n",
        "}\n",
        "log(mu[i]) <- alpha + beta*log(x[i] + 10) + gamma*x[i]\n",
        "}\n",
        "for (i in 1:6) {\n",
        "y.pred[i] ~ dpois(mu[i])\n",
        "}\n",
        "alpha ~ dnorm(0, 0.0001)\n",
        "beta ~ dnorm(0, 0.0001)\n",
        "gamma ~ dnorm(0, 0.0001)\n",
        "}\n",
        "\n",
        "Data{\n",
        "list(y = structure(.Data = c(15,21,29,16,18,21,16,26,33,\n",
        "27,41,60,33,38,41,20,27,42),\n",
        ".Dim = c(6, 3)),\n",
        "x = c(0, 10, 33, 100, 333, 1000))\n",
        "}\n",
        "\n",
        "Inits{\n",
        "list(alpha = 0, beta = 1, gamma = -0.1)\n",
        "}\n",
        "\n",
        "Inits{\n",
        "list(alpha = 10, beta = 0, gamma = 0.1)\n",
        "}\n",
        "\""
      ],
      "execution_count": 6,
      "outputs": []
    },
    {
      "cell_type": "code",
      "metadata": {
        "colab": {
          "base_uri": "https://localhost:8080/",
          "height": 95
        },
        "id": "U_X1xIISW3iM",
        "outputId": "7ee06a5d-34e4-4d2a-d5a9-1f65243ad1fc"
      },
      "source": [
        "results <- run.jags(filestring, monitor=c('alpha','beta','gamma'))"
      ],
      "execution_count": 7,
      "outputs": [
        {
          "output_type": "error",
          "ename": "ERROR",
          "evalue": "ignored",
          "traceback": [
            "Error in run.jags(filestring, monitor = c(\"alpha\", \"beta\", \"gamma\")): could not find function \"run.jags\"\nTraceback:\n"
          ]
        }
      ]
    },
    {
      "cell_type": "code",
      "metadata": {
        "colab": {
          "base_uri": "https://localhost:8080/",
          "height": 95
        },
        "id": "hCyzsONNW7gn",
        "outputId": "2ebc8074-2b7c-4cda-ecb1-afa341457e40"
      },
      "source": [
        "jags <- jags.model(\n",
        "    'example.bug',\n",
        "    data = list(\n",
        "        'x' = x,\n",
        "        'y' = y,\n",
        "        'N' = N\n",
        "    ),\n",
        "    n.chains = 4,\n",
        "    n.adapt = 10\n",
        ")\n",
        "samples <- coda.samples(\n",
        "    jags,\n",
        "    c('a', 'b'),\n",
        "    1000\n",
        ")\n",
        "png('plot_1.png')\n",
        "plot(samples)\n",
        "dev.off()"
      ],
      "execution_count": 4,
      "outputs": [
        {
          "output_type": "error",
          "ename": "ERROR",
          "evalue": "ignored",
          "traceback": [
            "Error in jags.model(\"example.bug\", data = list(x = x, y = y, N = N), n.chains = 4, : could not find function \"jags.model\"\nTraceback:\n"
          ]
        }
      ]
    },
    {
      "cell_type": "code",
      "metadata": {
        "id": "i5OWDAluXafY"
      },
      "source": [
        ""
      ],
      "execution_count": null,
      "outputs": []
    }
  ]
}